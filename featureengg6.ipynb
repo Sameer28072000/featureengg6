{
 "cells": [
  {
   "cell_type": "markdown",
   "id": "e838e61e-bbde-4cea-a1a7-8ec1fcf4e327",
   "metadata": {},
   "source": [
    "Q1. Pearson correlation coefficient is a measure of the linear relationship between two variables. Suppose\n",
    "you have collected data on the amount of time students spend studying for an exam and their final exam\n",
    "scores. Calculate the Pearson correlation coefficient between these two variables and interpret the result."
   ]
  },
  {
   "cell_type": "code",
   "execution_count": null,
   "id": "44bf5ef3-20ec-4b0d-8c10-1995c6426481",
   "metadata": {},
   "outputs": [],
   "source": [
    "Ans:-Pearson correlation coefficient denotes by r.\n",
    "The value of Pearson correlation coefficient ranges from (-1 to 1).\n",
    "+1----> it shows strongly +ve linear relantionship between two variables.\n",
    "-1-----> it shows strongly -ve linear relationship between two variables.\n",
    "0------> it shows no relationship between two variables."
   ]
  },
  {
   "cell_type": "markdown",
   "id": "6da5256f-1483-4e03-9ec2-eb2077674dae",
   "metadata": {},
   "source": [
    "Q2. Spearman's rank correlation is a measure of the monotonic relationship between two variables.\n",
    "Suppose you have collected data on the amount of sleep individuals get each night and their overall job\n",
    "satisfaction level on a scale of 1 to 10. Calculate the Spearman's rank correlation between these two\n",
    "variables and interpret the result."
   ]
  },
  {
   "cell_type": "code",
   "execution_count": null,
   "id": "7947ce89-aa36-4754-9234-12f5eb478f9f",
   "metadata": {},
   "outputs": [],
   "source": [
    "Ans:-\n",
    "i.Rank of the variable\n",
    "ii.calculate diff. between rank\n",
    "iii.squared each diff.(d^2)\n",
    "iv.sum of squared each diff.(d^2)\n",
    "\n",
    "then use spearman rank correlation formula it is denoted by (row)."
   ]
  },
  {
   "cell_type": "markdown",
   "id": "267c6af4-ca54-4d2c-aa48-2635ce95d5ed",
   "metadata": {},
   "source": [
    "Q3. Suppose you are conducting a study to examine the relationship between the number of hours of\n",
    "exercise per week and body mass index (BMI) in a sample of adults. You collected data on both variables\n",
    "for 50 participants. Calculate the Pearson correlation coefficient and the Spearman's rank correlation\n",
    "between these two variables and compare the results."
   ]
  },
  {
   "cell_type": "code",
   "execution_count": null,
   "id": "50c84ff4-e121-4d23-be22-56ddb64cba09",
   "metadata": {},
   "outputs": [],
   "source": [
    "Ans:-\n",
    "\n",
    "Pearson rank range from (-1 to 1)\n",
    "i.calculate mean of the numbers.\n",
    "ii.calculate diff. between the numbers\n",
    "iii.calculate the product of diff. between the numbers.\n",
    "iv.sum of all the products\n",
    "v.calculate std deviation\n",
    "vi.divide the sum of all the products/calculate std deviation.\n",
    "\n",
    "Spearman rank range from (-1 to 1)\n",
    "\n",
    "i.Rank of the variable\n",
    "ii.calculate diff. between rank\n",
    "iii.squared each diff.(d^2)\n",
    "iv.sum of squared each diff.(d^2)\n"
   ]
  },
  {
   "cell_type": "markdown",
   "id": "071c9be9-8c9b-4793-82fa-e9d713e49850",
   "metadata": {},
   "source": [
    "Q4. A researcher is interested in examining the relationship between the number of hours individuals\n",
    "spend watching television per day and their level of physical activity. The researcher collected data on\n",
    "both variables from a sample of 50 participants. Calculate the Pearson correlation coefficient between\n",
    "these two variables."
   ]
  },
  {
   "cell_type": "code",
   "execution_count": null,
   "id": "f2861549-502a-47cb-aa16-a65141b6ba26",
   "metadata": {},
   "outputs": [],
   "source": [
    "Ans:-\n",
    "\n",
    "Pearson rank range from (-1 to 1)\n",
    "i.calculate mean of the numbers.\n",
    "ii.calculate diff. between the numbers\n",
    "iii.calculate the product of diff. between the numbers.\n",
    "iv.sum of all the products\n",
    "v.calculate std deviation\n",
    "vi.divide the sum of all the products/calculate std deviation."
   ]
  },
  {
   "cell_type": "markdown",
   "id": "d7196b13-061e-4e20-91f1-56cb9e427519",
   "metadata": {},
   "source": [
    "Q5. A survey was conducted to examine the relationship between age and preference for a particular\n",
    "brand of soft drink. The survey results are shown below:"
   ]
  },
  {
   "cell_type": "code",
   "execution_count": null,
   "id": "25c6f787-3497-4792-9697-0445742601fc",
   "metadata": {},
   "outputs": [],
   "source": [
    "Ans:-\n",
    "25,19,28----->coke----->Related with other.\n",
    "42,31----->pepsi------->Related with other.\n",
    "37--------------------->Not Related with other.\n"
   ]
  },
  {
   "cell_type": "markdown",
   "id": "50e68b7f-913f-4822-a298-b5caf6b4dd43",
   "metadata": {},
   "source": [
    "Q6. A company is interested in examining the relationship between the number of sales calls made per day\n",
    "and the number of sales made per week. The company collected data on both variables from a sample of\n",
    "30 sales representatives. Calculate the Pearson correlation coefficient between these two variables."
   ]
  },
  {
   "cell_type": "code",
   "execution_count": null,
   "id": "122c9b87-4eb8-4602-9d8a-077f7763f948",
   "metadata": {},
   "outputs": [],
   "source": [
    "Ans:-\n",
    "\n",
    "Pearson rank range from (-1 to 1)\n",
    "\n",
    "i.calculate mean of the numbers.\n",
    "ii.calculate diff. between the numbers\n",
    "iii.calculate the product of diff. between the numbers.\n",
    "iv.sum of all the products\n",
    "v.calculate std deviation\n",
    "vi.divide the sum of all the products/calculate std deviation."
   ]
  }
 ],
 "metadata": {
  "kernelspec": {
   "display_name": "Python 3 (ipykernel)",
   "language": "python",
   "name": "python3"
  },
  "language_info": {
   "codemirror_mode": {
    "name": "ipython",
    "version": 3
   },
   "file_extension": ".py",
   "mimetype": "text/x-python",
   "name": "python",
   "nbconvert_exporter": "python",
   "pygments_lexer": "ipython3",
   "version": "3.10.8"
  }
 },
 "nbformat": 4,
 "nbformat_minor": 5
}
